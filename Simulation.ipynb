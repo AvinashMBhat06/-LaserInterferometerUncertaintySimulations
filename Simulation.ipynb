{
 "cells": [
  {
   "cell_type": "markdown",
   "metadata": {},
   "source": [
    "## Monte Carlo Simulation"
   ]
  },
  {
   "cell_type": "code",
   "execution_count": 6,
   "metadata": {},
   "outputs": [],
   "source": [
    "import numpy as np\n",
    "data = np.array([35.003,34.993, 35.005, 35.002, 35.001])\n",
    "mean = np.mean(data)\n",
    "std_deviation = np.std(data, ddof=1)\n"
   ]
  },
  {
   "cell_type": "code",
   "execution_count": 7,
   "metadata": {},
   "outputs": [],
   "source": [
    "num_trials=2*10**5\n",
    "type_A_samples=np.random.normal(mean,std_deviation,num_trials)\n",
    "coeffecient_min=8.5*10**-6\n",
    "coeffecient_max=14.5*10**-6\n",
    "coeffecient_Samples=np.random.triangular(coeffecient_min,(coeffecient_max+coeffecient_min)*0.5,coeffecient_max,num_trials)\n",
    "room_temp_samples=np.random.uniform(26.5,23.5,num_trials)"
   ]
  },
  {
   "cell_type": "code",
   "execution_count": 8,
   "metadata": {},
   "outputs": [],
   "source": [
    "gauge_block_lengths=np.zeros(num_trials)\n",
    "for i in range(num_trials):\n",
    "    L=type_A_samples[i]\n",
    "    alpha=coeffecient_Samples[i]\n",
    "    temp=room_temp_samples[i]\n",
    "    gauge_block_length=L*(1+alpha*(temp-22))\n",
    "    gauge_block_lengths[i]=gauge_block_length\n"
   ]
  },
  {
   "cell_type": "code",
   "execution_count": 9,
   "metadata": {},
   "outputs": [
    {
     "data": {
      "text/plain": [
       "<matplotlib.collections.PolyCollection at 0x245f5101820>"
      ]
     },
     "execution_count": 9,
     "metadata": {},
     "output_type": "execute_result"
    },
    {
     "data": {
      "image/png": "[encoded data removed]",
      "text/plain": [
       "<Figure size 640x480 with 1 Axes>"
      ]
     },
     "metadata": {},
     "output_type": "display_data"
    }
   ],
   "source": [
    "import matplotlib.pyplot as plt\n",
    "fig, ax = plt.subplots()\n",
    "ax.hist(gauge_block_lengths,bins=100)\n",
    "confidence_intervals = np.percentile(gauge_block_lengths, [2.5, 97.5])\n",
    "ax.fill_between(gauge_block_lengths,min(gauge_block_lengths),confidence_intervals[0], color='red', alpha=0.1)\n",
    "ax.fill_between(gauge_block_lengths,confidence_intervals[1],max(gauge_block_lengths), color='red', alpha=0.1)\n"
   ]
  },
  {
   "cell_type": "code",
   "execution_count": 10,
   "metadata": {},
   "outputs": [
    {
     "data": {
      "text/plain": [
       "array([34.99298365, 35.0110549 ])"
      ]
     },
     "execution_count": 10,
     "metadata": {},
     "output_type": "execute_result"
    }
   ],
   "source": [
    "confidence_intervals"
   ]
  },
  {
   "cell_type": "code",
   "execution_count": 12,
   "metadata": {},
   "outputs": [
    {
     "data": {
      "text/plain": [
       "0.004620680855455258"
      ]
     },
     "execution_count": 12,
     "metadata": {},
     "output_type": "execute_result"
    }
   ],
   "source": [
    "std=np.std(gauge_block_lengths,ddof=1)\n",
    "std"
   ]
  },
  {
   "cell_type": "code",
   "execution_count": 13,
   "metadata": {},
   "outputs": [
    {
     "data": {
      "text/plain": [
       "35.00201673674028"
      ]
     },
     "execution_count": 13,
     "metadata": {},
     "output_type": "execute_result"
    }
   ],
   "source": [
    "mean=np.mean(gauge_block_lengths)\n",
    "mean"
   ]
  },
  {
   "cell_type": "markdown",
   "metadata": {},
   "source": []
  },
  {
   "cell_type": "code",
   "execution_count": null,
   "metadata": {},
   "outputs": [],
   "source": []
  }
 ],
 "metadata": {
  "kernelspec": {
   "display_name": "Python 3",
   "language": "python",
   "name": "python3"
  },
  "language_info": {
   "codemirror_mode": {
    "name": "ipython",
    "version": 3
   },
   "file_extension": ".py",
   "mimetype": "text/x-python",
   "name": "python",
   "nbconvert_exporter": "python",
   "pygments_lexer": "ipython3",
   "version": "3.12.1"
  }
 },
 "nbformat": 4,
 "nbformat_minor": 2
}
